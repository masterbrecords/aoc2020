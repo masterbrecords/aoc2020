{
 "cells": [
  {
   "cell_type": "code",
   "execution_count": null,
   "metadata": {},
   "outputs": [],
   "source": [
    "import re"
   ]
  },
  {
   "cell_type": "code",
   "execution_count": 2,
   "metadata": {},
   "outputs": [],
   "source": [
    "with open(\"input.txt\", \"r\") as input_file:\n",
    "    input_list = input_file.readlines()\n",
    "    \n",
    "input_list = [rule.strip() for rule in input_list]"
   ]
  },
  {
   "cell_type": "code",
   "execution_count": 3,
   "metadata": {},
   "outputs": [],
   "source": [
    "class Bag:\n",
    "    def __init__(self, color: str, count: int = 1):\n",
    "        self.color = color\n",
    "        self.count = count\n",
    "        \n",
    "    def __repr__(self):\n",
    "        return f\"{self.count} {self.color} bags\" \n",
    "        \n",
    "class Rule:\n",
    "    def __init__(self, color: str, allowed_bag_list: list):\n",
    "        self.color = color\n",
    "        self.allowed_bag_list = allowed_bag_list\n",
    "        \n",
    "    def __repr__(self):\n",
    "        return f\"{self.color} bag contains {self.allowed_bag_list}\""
   ]
  },
  {
   "cell_type": "code",
   "execution_count": 4,
   "metadata": {},
   "outputs": [],
   "source": [
    "rule_list = list()\n",
    "expression = re.compile(\"(?:(\\d*) (\\w* \\w*) (?:bags|bag)(?:, |\\.))\")\n",
    "for line in input_list:\n",
    "    split = line.split(\" bags contain \")\n",
    "    rule_color = split[0]\n",
    "    bag_list = list()\n",
    "    for item in expression.findall(split[1]):\n",
    "        bag_list.append(Bag(item[1], int(item[0])))\n",
    "        \n",
    "    rule_list.append(Rule(rule_color, bag_list))"
   ]
  },
  {
   "cell_type": "code",
   "execution_count": 5,
   "metadata": {},
   "outputs": [],
   "source": [
    "def get_rule(color: str):\n",
    "    for rule in rule_list:\n",
    "        if rule.color == color:\n",
    "            return rule\n",
    "    return None\n",
    "\n",
    "def check_for_nested_bag(rule: Rule, search_color: str):\n",
    "    result = False\n",
    "    for bag in rule.allowed_bag_list:\n",
    "        if bag.color == search_color:\n",
    "            # print(f\"Regel {rule} erlaubt {search_color} direkt\")\n",
    "            return True\n",
    "        else:\n",
    "            # print(f\"Regel {rule} erlaubt nicht direkt {search_color}\")\n",
    "            result = check_for_nested_bag(get_rule(bag.color), search_color)\n",
    "            if result == True:\n",
    "                return True\n",
    "    # print(f\"Regel {rule} erlaubt keine weiteren Bags\")\n",
    "    return result"
   ]
  },
  {
   "cell_type": "code",
   "execution_count": 6,
   "metadata": {},
   "outputs": [
    {
     "name": "stdout",
     "output_type": "stream",
     "text": [
      "Teil 1: shiny gold wird von 370 Regeln erlaubt\n"
     ]
    }
   ],
   "source": [
    "rule_count = 0\n",
    "for rule in rule_list:\n",
    "    if check_for_nested_bag(rule, \"shiny gold\"):\n",
    "        rule_count += 1\n",
    "\n",
    "print(f\"Teil 1: shiny gold wird von {rule_count} Regeln erlaubt\")"
   ]
  },
  {
   "cell_type": "code",
   "execution_count": 7,
   "metadata": {},
   "outputs": [],
   "source": [
    "def calc_contained_bags(rule: Rule):\n",
    "    if len(rule.allowed_bag_list) == 0:\n",
    "        return 0\n",
    "    else:\n",
    "        contained_count = 0\n",
    "        for bag in rule.allowed_bag_list:\n",
    "            contained_count += bag.count\n",
    "            contained_count += calc_contained_bags(get_rule(bag.color)) * bag.count\n",
    "        return contained_count"
   ]
  },
  {
   "cell_type": "code",
   "execution_count": 8,
   "metadata": {},
   "outputs": [
    {
     "name": "stdout",
     "output_type": "stream",
     "text": [
      "Teil 2: shiny gold muss 29547 bags enthalten\n"
     ]
    }
   ],
   "source": [
    "print(f\"Teil 2: shiny gold muss {calc_contained_bags(get_rule('shiny gold'))} bags enthalten\")"
   ]
  }
 ],
 "metadata": {
  "kernelspec": {
   "display_name": "Python 3",
   "language": "python",
   "name": "python3"
  },
  "language_info": {
   "codemirror_mode": {
    "name": "ipython",
    "version": 3
   },
   "file_extension": ".py",
   "mimetype": "text/x-python",
   "name": "python",
   "nbconvert_exporter": "python",
   "pygments_lexer": "ipython3",
   "version": "3.8.5"
  }
 },
 "nbformat": 4,
 "nbformat_minor": 4
}
